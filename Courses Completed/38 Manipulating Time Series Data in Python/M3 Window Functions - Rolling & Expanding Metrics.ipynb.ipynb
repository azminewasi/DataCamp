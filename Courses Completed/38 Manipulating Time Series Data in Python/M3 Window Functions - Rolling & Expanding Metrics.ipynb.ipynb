{
 "cells": [
  {
   "cell_type": "markdown",
   "metadata": {},
   "source": [
    "## Course - Manipulating Time Series Data in Python"
   ]
  },
  {
   "cell_type": "markdown",
   "metadata": {},
   "source": [
    "# M3 Window Functions: Rolling & Expanding Metrics"
   ]
  },
  {
   "cell_type": "markdown",
   "metadata": {},
   "source": [
    "## Rolling window functions with pandas"
   ]
  },
  {
   "cell_type": "markdown",
   "metadata": {},
   "source": [
    "### Rolling average air quality since 2010 for new york city\n",
    "The last video was about rolling window functions. To practice this new tool, you'll start with air quality trends for New York City since 2010. In particular, you'll be using the daily Ozone concentration levels provided by the Environmental Protection Agency to calculate & plot the 90 and 360 day rolling average.\n",
    "\n",
    "Instructions\n",
    "- We have already imported pandas as pd and matplotlib.pyplot as plt.\n",
    "- Use pd.read_csv() to import 'ozone.csv', creating a DateTimeIndex from the 'date' column using parse_dates and index_col, and assign the result to data.\n",
    "- Add the columns '90D' and '360D' containing the 90 and 360 rolling calendar day .mean() for the column 'Ozone'.\n",
    "- Plot data starting 2010, setting 'New York City' as title."
   ]
  },
  {
   "cell_type": "code",
   "execution_count": null,
   "metadata": {},
   "outputs": [],
   "source": [
    "# Import and inspect ozone data here\n",
    "data = pd.read_csv('ozone.csv', parse_dates=['date'], index_col='date')\n",
    "print(data.info())\n",
    "\n",
    "# Calculate 90d and 360d rolling mean for the last price\n",
    "data['90D'] = data.Ozone.rolling('90D').mean()\n",
    "data['360D'] = data.Ozone.rolling('360D').mean()\n",
    "\n",
    "# Plot data\n",
    "data.loc['2010':].plot(title='New York City')\n",
    "plt.show()# Import and inspect ozone data here\n",
    "data = pd.read_csv('ozone.csv', parse_dates=['date'], index_col='date')\n",
    "print(data.info())\n",
    "\n",
    "# Calculate 90d and 360d rolling mean for the last price\n",
    "data['90D'] = data.Ozone.rolling('90D').mean()\n",
    "data['360D'] = data.Ozone.rolling('360D').mean()\n",
    "\n",
    "# Plot data\n",
    "data.loc['2010':].plot(title='New York City')\n",
    "plt.show()"
   ]
  },
  {
   "cell_type": "markdown",
   "metadata": {},
   "source": [
    "### Rolling 360-day median & std. deviation for nyc ozone data since 2000\n",
    "The last video also showed you how to calculate several rolling statistics using the .agg() method, similar to .groupby().\n",
    "\n",
    "Let's take a closer look at the air quality history of NYC using the Ozone data you have seen before. The daily data are very volatile, so using a longer term rolling average can help reveal a longer term trend.\n",
    "\n",
    "You'll be using a 360 day rolling window, and .agg() to calculate the rolling mean and standard deviation for the daily average ozone values since 2000.\n",
    "\n",
    "Instructions\n",
    "\n",
    "Use pd.read_csv() to import 'ozone.csv', creating a DateTimeIndex from the 'date' column using parse_dates and index_col, assign the result to data, and drop missing values using .dropna().\n",
    "Select the 'Ozone' column and create a .rolling() window using 360 periods, apply .agg() to calculate the mean and std, and assign this to rolling_stats.\n",
    "Use .join() to concatenate data with rolling_stats, and assign to stats.\n",
    "Plot stats using subplots."
   ]
  },
  {
   "cell_type": "code",
   "execution_count": null,
   "metadata": {},
   "outputs": [],
   "source": [
    "# Import and inspect ozone data here\n",
    "data = pd.read_csv('ozone.csv', parse_dates=['date'], index_col='date').dropna()\n",
    "\n",
    "# Calculate the rolling mean and std here\n",
    "rolling_stats = data.Ozone.rolling(360).agg(['mean', 'std'])\n",
    "\n",
    "# Join rolling_stats with ozone data\n",
    "stats = data.join(rolling_stats)\n",
    "\n",
    "# Plot stats\n",
    "stats.plot(subplots=True);\n",
    "plt.show()\n"
   ]
  },
  {
   "cell_type": "markdown",
   "metadata": {},
   "source": [
    "### Rolling quantiles for daily air quality in nyc\n",
    "You learned in the last video how to calculate rolling quantiles to describe changes in the dispersion of a time series over time in a way that is less sensitive to outliers than using the mean and standard deviation.\n",
    "\n",
    "Let's calculate rolling quantiles - at 10%, 50% (median) and 90% - of the distribution of daily average ozone concentration in NYC using a 360-day rolling window.\n",
    "\n",
    "Instructions\n",
    "\n",
    "We have already imported pandas as pd and matplotlib.pyplot as plt. We have also loaded the ozone data from 2000-2017 into the variable data.\n",
    "Apply .resample() with daily frequency 'D' to data and apply .interpolate() to fill missing values, and reassign to data.\n",
    "Inspect the result using .info().\n",
    "Create a .rolling() window using 360 periods, select the column 'Ozone', and assign the result to rolling.\n",
    "Insert three new columns, 'q10', 'q50' and 'q90' into data, calculating the respective quantiles from rolling.\n",
    "Plot data."
   ]
  },
  {
   "cell_type": "code",
   "execution_count": null,
   "metadata": {},
   "outputs": [],
   "source": [
    "# Resample, interpolate and inspect ozone data here\n",
    "data = data.resample('D').interpolate()\n",
    "print(data.info())\n",
    "\n",
    "# Create the rolling window\n",
    "rolling = data.Ozone.rolling(360)\n",
    "\n",
    "# Insert the rolling quantiles to the monthly returns\n",
    "data['q10'] = rolling.quantile(.1)\n",
    "data['q50'] = rolling.quantile(.5)\n",
    "data['q90'] = rolling.quantile(.9)\n",
    "\n",
    "# Plot the data\n",
    "data.plot()\n",
    "plt.show()"
   ]
  },
  {
   "cell_type": "markdown",
   "metadata": {},
   "source": [
    "### Expanding window functions with pandas"
   ]
  },
  {
   "cell_type": "markdown",
   "metadata": {},
   "source": [
    "### Cumulative sum vs .diff()\n",
    "In the video, you have learned about expanding windows that allow you to run cumulative calculations.\n",
    "The cumulative sum method has in fact the opposite effect of the .diff() method that you came across in chapter 1.\n",
    "To illustrate this, let's use the Google stock price time series, create the differences between prices, and reconstruct the series using the cumulative sum.\n",
    "\n",
    "Instructions\n",
    "\n",
    "We have already imported pandas as pd and matplotlib.pyplot as plt. We have also loaded google stock prices into the variable data\n",
    "Apply .diff() to data, drop missing values, and assign the result to differences.\n",
    "Use .first('D') to select the first price from data, and assign it to start_price.\n",
    "Use .append() to combine start_price and differences, apply .cumsum() and assign this to cumulative_sum.\n",
    "Use .equals() to compare data and cumulative_sum, and print the result."
   ]
  },
  {
   "cell_type": "code",
   "execution_count": null,
   "metadata": {},
   "outputs": [],
   "source": [
    "# Calculate differences\n",
    "differences = data.diff().dropna()\n",
    "\n",
    "# Select start price\n",
    "start_price = data.first('D')\n",
    "\n",
    "# Calculate cumulative sum\n",
    "cumulative_sum = start_price.append(differences).cumsum()\n",
    "\n",
    "# Validate cumulative sum equals data\n",
    "print(data.equals(cumulative_sum ))\n"
   ]
  },
  {
   "cell_type": "markdown",
   "metadata": {},
   "source": [
    "### Cumulative return on $1,000 invested in google vs apple I\n",
    "To put your new ability to do cumulative return calculations to practical use, let's compare how much $1,000 would be worth if invested in Google ('GOOG') or Apple ('AAPL') in 2010.\n",
    "\n",
    "Instructions\n",
    "\n",
    "We have already imported pandas as pd, and matplotlib.pyplot as plt. We have also loaded Google and Apple stock prices in a variable data.\n",
    "Define a variable investment with the value 1000.\n",
    "Calculate returns by applying .pct_change() to data.\n",
    "Add 1 to returns and assign this to returns_plus_one, then apply .cumprod() to returns_plus_one and assign the result to cumulative_return.\n",
    "Multiply cumulative_return by investment, and plot the result."
   ]
  },
  {
   "cell_type": "code",
   "execution_count": null,
   "metadata": {},
   "outputs": [],
   "source": [
    "# Define your investment\n",
    "investment = 1000\n",
    "# Calculate the daily returns here\n",
    "returns = data.pct_change()\n",
    "\n",
    "# Calculate the cumulative returns here\n",
    "returns_plus_one = returns+1\n",
    "cumulative_return = returns_plus_one.cumprod()\n",
    "\n",
    "# Calculate and plot the investment return here \n",
    "cumulative_return.mul(investment).plot()\n",
    "plt.show()"
   ]
  },
  {
   "cell_type": "markdown",
   "metadata": {},
   "source": [
    "### Cumulative return on $1,000 invested in google vs apple II\n",
    "Apple outperformed Google over the entire period, but this may have been different over various 1-year sub periods, so that switching between the two stocks might have yielded an even better result.\n",
    "\n",
    "To analyze this, calculate that cumulative return for rolling 1-year periods, and then plot the returns to see when each stock was superior.\n",
    "\n",
    "Instructions\n",
    "\n",
    "We have already imported pandas as pd and matplotlib.pyplot as plt. We have also loaded the GOOG and AAPL close prices from the last exercise into data.\n",
    "Define a multi_period_return() function that returns the cumulative return from an array of period returns.\n",
    "Calculate daily_returns by applying .pct_change() to data.\n",
    "Create a '360D' .rolling() window on daily_returns, and .apply() multi_period_returns. Assign the result to rolling_annual_returns.\n",
    "Plot rolling_annual_returns after multiplying it by 100."
   ]
  },
  {
   "cell_type": "code",
   "execution_count": null,
   "metadata": {},
   "outputs": [],
   "source": [
    "# Import numpy\n",
    "import numpy as np\n",
    "\n",
    "# Define a multi_period_return function\n",
    "def multi_period_return(period_returns):\n",
    "    return np.prod(period_returns + 1) - 1\n",
    "    \n",
    "# Calculate daily returns\n",
    "daily_returns = data.pct_change()\n",
    "\n",
    "# Calculate rolling_annual_returns\n",
    "rolling_annual_returns = daily_returns.rolling('360D').apply(multi_period_return)\n",
    "\n",
    "# Plot rolling_annual_returns\n",
    "rolling_annual_returns.mul(100).plot()\n",
    "plt.show()"
   ]
  },
  {
   "cell_type": "markdown",
   "metadata": {},
   "source": [
    "## Case study: S&P500 price simulation"
   ]
  },
  {
   "cell_type": "markdown",
   "metadata": {},
   "source": [
    "### Random walk I\n",
    "In the last video, you have seen how to generate a random walk of returns, and how to convert this random return series into a random stock price path.\n",
    "\n",
    "In this exercise, you'll build your own random walk by drawing random numbers from the normal distribution with the help of numpy.\n",
    "\n",
    "Instructions\n",
    "\n",
    "We have already imported pandas as pd, functions normal and seed from numpy.random, and matplotlib.pyplot as plt.\n",
    "Set seed to 42.\n",
    "Use normal to generate 2,500 random returns with the parameters loc=.001, scale=.01 and assign this to random_walk.\n",
    "Convert random_walk to a pd.Series object and reassign it to random_walk.\n",
    "Create random_prices by adding 1 to random_walk and calculating the cumulative product.\n",
    "Multiply random_prices by 1,000 and plot the result for a price series starting at 1,000."
   ]
  },
  {
   "cell_type": "code",
   "execution_count": null,
   "metadata": {},
   "outputs": [],
   "source": [
    "# Set seed here\n",
    "seed(42)\n",
    "\n",
    "# Create random_walk\n",
    "random_walk = normal(size=2500,loc=.001,scale=.01)\n",
    "\n",
    "# Convert random_walk to pd.series\n",
    "random_walk = pd.Series(random_walk)\n",
    "\n",
    "# Create random_prices\n",
    "random_prices = random_walk.add(1).cumprod()\n",
    "\n",
    "# Plot random_prices here\n",
    "random_prices.mul(1000).plot()\n",
    "plt.show()\n"
   ]
  },
  {
   "cell_type": "markdown",
   "metadata": {},
   "source": [
    "### Random walk II\n",
    "In the last video, you have also seen how to create a random walk of returns by sampling from actual returns, and how to use this random sample to create a random stock price path.\n",
    "\n",
    "In this exercise, you'll build a random walk using historical returns from Facebook's stock price since IPO through the end of May 31, 2017. Then you'll simulate an alternative random price path in the next exercise.\n",
    "\n",
    "Instructions\n",
    "\n",
    "We have already imported pandas as pd, choice and seed from numpy.random, seaborn as sns, and matplotlib.pyplot as plt. We have also imported the FB stock price series since IPO in May 2012 as the variable fb. Inspect this using .head().\n",
    "Set seed to 42.\n",
    "Apply .pct_change() to generate daily Facebook returns, drop missing values, and assign to daily_returns.\n",
    "Create a variable n_obs that contains the .count() of Facebook daily_returns.\n",
    "Use choice() to randomly select n_obs samples from daily_returns, and assign to random_walk.\n",
    "Convert random_walk to a pd.Series and reassign it to itself.\n",
    "Use sns.distplot() to plot the distribution of random_walk."
   ]
  },
  {
   "cell_type": "code",
   "execution_count": null,
   "metadata": {},
   "outputs": [],
   "source": [
    "# Set seed here\n",
    "seed(42)\n",
    "\n",
    "# Calculate daily_returns here\n",
    "daily_returns = fb.pct_change().dropna()\n",
    "\n",
    "# Get n_obs\n",
    "n_obs = daily_returns.count()\n",
    "\n",
    "# Create random_walk\n",
    "random_walk = choice(daily_returns, size=n_obs)\n",
    "\n",
    "# Convert random_walk to pd.series\n",
    "random_walk = pd.Series(random_walk)\n",
    "\n",
    "# Plot random_walk distribution\n",
    "sns.distplot(random_walk)\n",
    "plt.show();\n"
   ]
  },
  {
   "cell_type": "markdown",
   "metadata": {},
   "source": [
    "### Random walk III\n",
    "In this exercise, you'll complete your random walk simulation using Facebook stock returns over the last five years. You'll start off with a random sample of returns like the one you've generated during the last exercise and use it to create a random stock price path.\n",
    "\n",
    "Instructions\n",
    "\n",
    "We have already imported pandas as pd, choice and seed from numpy.random, and matplotlib.pyplot as plt. We have loaded the Facebook price as a pd.DataFrame in the variable fb and a random sample of daily FB returns as pd.Series in the variable random_walk.\n",
    "Select the first Facebook price by applying .first('D') to fb.price, and assign to start.\n",
    "Add 1 to random_walk and reassign it to itself, then .append() random_walk to start and assign this to random_price.\n",
    "Apply .cumprod() to random_price and reassign it to itself.\n",
    "Insert random_price as new column labeled random into fb and plot the result."
   ]
  },
  {
   "cell_type": "code",
   "execution_count": null,
   "metadata": {},
   "outputs": [],
   "source": [
    "# Select fb start price here\n",
    "start = fb.price.first('D')\n",
    "\n",
    "# Add 1 to random walk and append to start\n",
    "random_walk = random_walk+1\n",
    "random_price = start.append(random_walk) \n",
    "\n",
    "# Calculate cumulative product here\n",
    "random_price = random_price.cumprod()\n",
    "\n",
    "# Insert into fb and plot\n",
    "fb['random'] = random_price\n",
    "\n",
    "fb.plot()\n",
    "plt.show()\n"
   ]
  },
  {
   "cell_type": "markdown",
   "metadata": {},
   "source": [
    "## Relationships between time series: correlation"
   ]
  },
  {
   "cell_type": "markdown",
   "metadata": {},
   "source": [
    "### Annual return correlations among several stocks\n",
    "You have seen in the video how to calculate correlations, and visualize the result.\n",
    "\n",
    "In this exercise, we have provided you with the historical stock prices for Apple (AAPL), Amazon (AMZN), IBM (IBM), WalMart (WMT), and Exxon Mobile (XOM) for the last 4,000 trading days from July 2001 until the end of May 2017.\n",
    "\n",
    "You'll calculate the year-end returns, the pairwise correlations among all stocks, and visualize the result as an annotated heatmap.\n",
    "\n",
    "Instructions\n",
    "\n",
    "We have already imported pandas as pd, seaborn as sns, and matplotlib.pyplot as plt. We have loaded the daily close price for the five stocks in a variable called data.\n",
    "Inspect using .info().\n",
    "Apply .resample() with year-end frequency (alias: 'A') to data and select the .last() price from each subperiod; assign this to annual_prices.\n",
    "Calculate annual_returns by applying .pct_change() to annual_prices.\n",
    "Calculate correlations by applying .corr() to annual_returns and print the result.\n",
    "Visualize correlations as an annotated sns.heatmap()."
   ]
  },
  {
   "cell_type": "code",
   "execution_count": null,
   "metadata": {},
   "outputs": [],
   "source": [
    "# Inspect data here\n",
    "print(data.info())\n",
    "\n",
    "# Calculate year-end prices here\n",
    "annual_prices = data.resample('A').last()\n",
    "\n",
    "# Calculate annual returns here\n",
    "annual_returns = annual_prices.pct_change()\n",
    "\n",
    "# Calculate and print the correlation matrix here\n",
    "correlations = annual_returns.corr()\n",
    "print(correlations)\n",
    "\n",
    "# Visualize the correlations as heatmap here\n",
    "\n",
    "sns.heatmap(correlations, annot=True)\n",
    "plt.show()"
   ]
  }
 ],
 "metadata": {
  "language_info": {
   "name": "python"
  },
  "orig_nbformat": 4
 },
 "nbformat": 4,
 "nbformat_minor": 2
}
