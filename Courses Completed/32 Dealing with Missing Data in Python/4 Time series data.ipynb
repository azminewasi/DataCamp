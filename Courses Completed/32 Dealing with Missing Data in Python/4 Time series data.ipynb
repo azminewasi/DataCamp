{
 "cells": [
  {
   "cell_type": "markdown",
   "metadata": {},
   "source": [
    "## Filling missing time-series data"
   ]
  },
  {
   "cell_type": "markdown",
   "metadata": {},
   "source": [
    "### Filling missing time-series data\n",
    "Imputing time-series data requires a specialized treatment. Time-series data usually comes with special characteristics such trend, seasonality and cyclicality of which we can exploit when imputing missing values in the data. In the airquality DataFrame, you can observe these characteristics. Your goal is to impute the values in such a way that these characteristics are accounted for.\n",
    "\n",
    "In this exercise, you'll try using the .fillna() method to impute time-series data. You will use the forward fill and backward fill strategies for imputing time series data.\n",
    "\n",
    "Instructions \n",
    "- Impute missing values using the forward fill method.\n",
    "- Impute missing values using the backward fill method."
   ]
  },
  {
   "cell_type": "code",
   "execution_count": null,
   "metadata": {},
   "outputs": [],
   "source": [
    "# Print prior to imputing missing values\n",
    "print(airquality[30:40])\n",
    "\n",
    "# Fill NaNs using forward fill\n",
    "airquality.fillna(method=\"ffill\", inplace=True)\n",
    "\n",
    "# Print after imputing missing values\n",
    "print(airquality[30:40])"
   ]
  },
  {
   "cell_type": "code",
   "execution_count": null,
   "metadata": {},
   "outputs": [],
   "source": [
    "# Print prior to imputing missing values\n",
    "print(airquality[30:40])\n",
    "\n",
    "# Fill NaNs using backward fill\n",
    "airquality.fillna(method='bfill', inplace=True)\n",
    "\n",
    "# Print after imputing missing values\n",
    "print(airquality[30:40])"
   ]
  },
  {
   "cell_type": "markdown",
   "metadata": {},
   "source": [
    "### Impute with interpolate method\n",
    "Time-series data have trends of ups and downs against time. For this, filling flat series of values using methods like forward fill or backward fill is not suitable. A more apt imputation would be to use methods like linear or quadratic imputation, where the values are filled with incrementing or decrementing values.\n",
    "\n",
    "In this exercise, you will work with the .interpolate() method on the airquality DataFrame. You will use linear, quadratic and nearest methods. You can also find the detailed list of strategies for interpolation here.\n",
    "\n",
    "Instructions\n",
    "- Interpolate missing values with the linear method.\n",
    "- Interpolate missing values with the quadratic method.\n",
    "- Interpolate missing values with the nearest method."
   ]
  },
  {
   "cell_type": "code",
   "execution_count": null,
   "metadata": {},
   "outputs": [],
   "source": [
    "# Print prior to interpolation\n",
    "print(airquality[30:40])\n",
    "\n",
    "# Interpolate the NaNs linearly\n",
    "airquality.interpolate(method='linear', inplace=True)\n",
    "\n",
    "# Print after interpolation\n",
    "print(airquality[30:40])"
   ]
  },
  {
   "cell_type": "code",
   "execution_count": null,
   "metadata": {},
   "outputs": [],
   "source": [
    "# Print prior to interpolation\n",
    "print(airquality[30:40])\n",
    "\n",
    "# Interpolate the NaNs quadratically\n",
    "airquality.interpolate(method='quadratic', inplace=True)\n",
    "\n",
    "# Print after interpolation\n",
    "print(airquality[30:40])"
   ]
  },
  {
   "cell_type": "code",
   "execution_count": null,
   "metadata": {},
   "outputs": [],
   "source": [
    "# Print prior to interpolation\n",
    "print(airquality[30:40])\n",
    "\n",
    "# Interpolate the NaNs with nearest value\n",
    "\n",
    "airquality.interpolate(method='nearest', inplace=True)\n",
    "\n",
    "# Print after interpolation\n",
    "print(airquality[30:40])"
   ]
  },
  {
   "cell_type": "markdown",
   "metadata": {},
   "source": [
    "### Viz"
   ]
  },
  {
   "cell_type": "code",
   "execution_count": null,
   "metadata": {},
   "outputs": [],
   "source": [
    "# Impute airquality DataFrame with ffill method\n",
    "ffill_imputed = airquality.fillna(method='ffill')\n",
    "\n",
    "# Plot the imputed DataFrame ffill_imp in red dotted style \n",
    "ffill_imputed['Ozone'].plot(color='red', marker='o', linestyle='dotted', figsize=(30, 5))\n",
    "\n",
    "# Plot the airquality DataFrame with title\n",
    "airquality['Ozone'].plot(title='Ozone', marker='o', figsize=(30, 5))\n",
    "\n",
    "plt.show()"
   ]
  },
  {
   "cell_type": "code",
   "execution_count": null,
   "metadata": {},
   "outputs": [],
   "source": [
    "# Impute airquality DataFrame with bfill method\n",
    "bfill_imputed = airquality.fillna(method='bfill')\n",
    "\n",
    "# Plot the imputed DataFrame bfill_imp in red dotted style \n",
    "bfill_imputed['Ozone'].plot(color='red', marker='o', linestyle='dotted', figsize=(30, 5))\n",
    "\n",
    "# Plot the airquality DataFrame with title\n",
    "airquality['Ozone'].plot(title='Ozone', marker='o', figsize=(30, 5))\n",
    "\n",
    "plt.show()"
   ]
  },
  {
   "cell_type": "code",
   "execution_count": null,
   "metadata": {},
   "outputs": [],
   "source": [
    "# Set nrows to 3 and ncols to 1\n",
    "fig, axes = plt.subplots(3, 1, figsize=(30, 20))\n",
    "\n",
    "# Create a dictionary of interpolations\n",
    "interpolations = {'Linear Interpolation': linear, 'Quadratic Interpolation': quadratic, \n",
    "                  'Nearest Interpolation': nearest}\n",
    "\n",
    "# Loop over axes and interpolations\n",
    "for ax, df_key in zip(axes, interpolations):\n",
    "  # Select and also set the title for a DataFrame\n",
    "  interpolations[df_key].Ozone.plot(color='red', marker='o', \n",
    "                                 linestyle='dotted', ax=ax)\n",
    "  airquality.Ozone.plot(title=df_key + ' - Ozone', marker='o', ax=ax)\n",
    "  \n",
    "plt.show()"
   ]
  }
 ],
 "metadata": {
  "language_info": {
   "name": "python"
  },
  "orig_nbformat": 4
 },
 "nbformat": 4,
 "nbformat_minor": 2
}
