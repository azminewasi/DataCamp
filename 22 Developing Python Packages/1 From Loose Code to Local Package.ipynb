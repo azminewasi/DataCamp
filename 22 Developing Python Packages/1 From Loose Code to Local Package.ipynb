{
 "cells": [
  {
   "cell_type": "markdown",
   "metadata": {},
   "source": [
    "# Course - Developing Python Packages"
   ]
  },
  {
   "cell_type": "markdown",
   "metadata": {},
   "source": [
    "# Module 1. From Loose Code to Local Package"
   ]
  },
  {
   "cell_type": "markdown",
   "metadata": {},
   "source": [
    "## Lesson - Starting a package"
   ]
  },
  {
   "cell_type": "markdown",
   "metadata": {},
   "source": [
    "### From script to package\n",
    "One common way to begin writing a package is to start with code you have already written as a script. At the time you first write this code, you may not realize how useful it might be in other places.\n",
    "\n",
    "If you did the prerequisite course, in one exercise you wrote a script to count the number of times cats were mentioned in the book Alice in Wonderland.\n",
    "\n",
    "In this exercise, you'll copy from that script to make a generalized function you can use on any text file for any words. This will be the first function in a new library.\n",
    "\n",
    "Instructions\n",
    "\n",
    "Create a new directory called textanalysis for your package. Click File > New Folder in the IDE.\n",
    "Create __init__.py and textanalysis.py modules inside textanalysis. Click the new textanalysis folder, then click File > New File in the IDE to create new files inside it.\n",
    "Copy the code from myscript.py into textanalysis.py.\n",
    "Modify textanalysis.py to create the function count_words(filepath, words_list) which opens the text file filepath, and returns the number of times the words in words_list appear."
   ]
  },
  {
   "cell_type": "code",
   "execution_count": null,
   "metadata": {},
   "outputs": [],
   "source": [
    "def count_words(filepath, words_list):\n",
    "    # Open the text file\n",
    "    with open(filepath) as file:\n",
    "        text = file.read()\n",
    "        \n",
    "    n = 0\n",
    "    for word in text.split():\n",
    "        # Count the number of times the words in the list appear\n",
    "        if word.lower() in words_list:\n",
    "            n += 1\n",
    "        \n",
    "    return n"
   ]
  },
  {
   "cell_type": "markdown",
   "metadata": {},
   "source": [
    "### Putting your package to work\n",
    "Now you have wrapped your word-counting function into a package, you can reuse it easily in other projects.\n",
    "\n",
    "In the initial script, you were analyzing the book Alice in Wonderland. In this new project, you will use the same function to analyze hotel reviews from TripAdvisor.\n",
    "\n",
    "The count_words() function has been imported for you at the top of this script. We'll talk more about importing from your packages in a later lesson.\n",
    "\n",
    "Instructions\n",
    "\n",
    "Use your new package to count the number of times the positive words 'good' or 'great' appear in the file 'hotel-reviews.txt'.\n",
    "Use the package to count the number of times the negative words 'bad' or 'awful' appear."
   ]
  },
  {
   "cell_type": "code",
   "execution_count": null,
   "metadata": {},
   "outputs": [],
   "source": [
    "from textanalysis.textanalysis import count_words\n",
    "\n",
    "# Count the number of positive words\n",
    "nb_positive_words = count_words('hotel-reviews.txt', ['good','great'])\n",
    "\n",
    "# Count the number of negative words\n",
    "nb_negative_words = count_words('hotel-reviews.txt', ['bad','awful'])\n",
    "\n",
    "print(\"{} positive words.\".format(nb_positive_words))\n",
    "print(\"{} negative words.\".format(nb_negative_words))\n"
   ]
  },
  {
   "cell_type": "markdown",
   "metadata": {},
   "source": [
    "## Lesson - Documentation"
   ]
  },
  {
   "cell_type": "markdown",
   "metadata": {},
   "source": [
    "### Writing function documentation with pyment II\n",
    "Documentation helps your users learn how to use your functions, and can even help remind you how to use them.\n",
    "\n",
    "In this exercise, you'll fill out your NumPy style documentation template to make some beautiful documentation.\n",
    "\n",
    "Instructions\n",
    "\n",
    "In the text editor, complete the documentation for the inches_to_feet() function. The short description for this function should read \"Convert lengths between inches and feet.\"\n",
    "Complete the x parameter documentation with type numpy.ndarray and description \"Lengths in feet.\"\n",
    "Complete the reverse parameter documentation with type bool, optional and the description \"If true this function converts from feet to inches instead of the default behavior of inches to feet. (Default value = False)\".\n",
    "Set the return type to numpy.ndarray."
   ]
  },
  {
   "cell_type": "code",
   "execution_count": null,
   "metadata": {},
   "outputs": [],
   "source": [
    "INCHES_PER_FOOT = 12.0  # 12 inches in a foot\n",
    "INCHES_PER_YARD = INCHES_PER_FOOT * 3.0  # 3 feet in a yard\n",
    "\n",
    "UNITS = (\"in\", \"ft\", \"yd\")\n",
    "\n",
    "\n",
    "def inches_to_feet(x, reverse=False):\n",
    "    \"\"\"Convert lengths between inches and feet.\n",
    "\n",
    "    Parameters\n",
    "    ----------\n",
    "    x : numpy.ndarray\n",
    "        Lengths in feet.\n",
    "    reverse : bool, optional\n",
    "        If true this function converts from feet to inches \n",
    "        instead of the default behavior of inches to feet. \n",
    "        (Default value = False)\n",
    "\n",
    "    Returns\n",
    "    -------\n",
    "    numpy.ndarray\n",
    "    \"\"\"\n",
    "    if reverse:\n",
    "        return x * INCHES_PER_FOOT\n",
    "    else:\n",
    "        return x / INCHES_PER_FOOT\n"
   ]
  },
  {
   "cell_type": "markdown",
   "metadata": {},
   "source": [
    "### Package and module documentation\n",
    "Package and module level documentation helps your users navigate your package.\n",
    "\n",
    "In this exercise, you will write documentation for the impyrial package. Pay attention to this documentation, you're going to be working on this package throughout this course, and it's worth knowing what its different parts do.\n"
   ]
  },
  {
   "cell_type": "code",
   "execution_count": null,
   "metadata": {},
   "outputs": [],
   "source": [
    "Instructions\n",
    "\n",
    "Add the following package level documentation to impyrial:\n",
    "impyrial\n",
    "========\n",
    "A package for converting between imperial \n",
    "measurements of length and weight.\n",
    "Add the following subpackage level documentation to impyrial.length:\n",
    "impyrial.length\n",
    "===============\n",
    "Length conversion between imperial units.\n",
    "Add the following module documentation to impyrial.length.core:\n",
    "Conversions between inches and \n",
    "larger imperial length units"
   ]
  },
  {
   "cell_type": "markdown",
   "metadata": {},
   "source": [
    "## Structuring imports"
   ]
  },
  {
   "cell_type": "markdown",
   "metadata": {},
   "source": [
    "### The module you documented in the last exercise, impyrial, is growing and you have separated the private functions (the ones you don't really want your users to use) from your public functions. The private functions are in the core.py module and the public ones are in the api.py module.\n",
    "\n",
    "However, you need to use the private functions to make the public functions work. In this exercise, you will import them into the api.py module to get your package modules working together.\n",
    "\n",
    "Instructions\n",
    "\n",
    "Import the functions inches_to_feet() and inches_to_yards(), and the variable UNITS from the impyrial/length/core.py module into impyrial/length/api.py. Use an absolute import.\n",
    "Import the function convert_unit() function in impyrial/length/api.py into the example_script.py script. You'll need to import this using the full filepath to the api module.\n",
    "Run the example script to check your imports work."
   ]
  },
  {
   "cell_type": "code",
   "execution_count": null,
   "metadata": {},
   "outputs": [],
   "source": []
  }
 ],
 "metadata": {
  "language_info": {
   "name": "python"
  },
  "orig_nbformat": 4
 },
 "nbformat": 4,
 "nbformat_minor": 2
}
