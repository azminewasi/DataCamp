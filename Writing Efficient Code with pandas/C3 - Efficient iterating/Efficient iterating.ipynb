{
 "metadata": {
  "language_info": {
   "codemirror_mode": {
    "name": "ipython",
    "version": 3
   },
   "file_extension": ".py",
   "mimetype": "text/x-python",
   "name": "python",
   "nbconvert_exporter": "python",
   "pygments_lexer": "ipython3",
   "version": 3
  },
  "orig_nbformat": 2
 },
 "nbformat": 4,
 "nbformat_minor": 2,
 "cells": [
  {
   "cell_type": "code",
   "execution_count": null,
   "metadata": {},
   "outputs": [],
   "source": [
    "Create a generator for a pandas DataFrame\n",
    "As you've seen in the video, you can easily create a generator out of a pandas DataFrame. Each time you iterate through it, it will yield two elements:\n",
    "\n",
    "the index of the respective row\n",
    "a pandas Series with all the elements of that row\n",
    "You are going to create a generator over the poker dataset, imported as poker_hands. Then, you will print all the elements of the 2nd row, using the generator.\n",
    "\n",
    "Remember you can always explore the dataset and see how it changes in the IPython Shell, and refer to the slides in the Slides tab.\n",
    "\n",
    "Instructions\n",
    "100 XP\n",
    "Assign a generator over the rows of the data dataset on the variable generator.\n",
    "Print all the elements of the 2nd element of the created generator."
   ]
  },
  {
   "cell_type": "code",
   "execution_count": null,
   "metadata": {},
   "outputs": [],
   "source": [
    "# Create a generator over the rows\n",
    "generator = poker_hands.iterrows()\n",
    "\n",
    "# Access the elements of the 2nd row\n",
    "first_element = next(generator)\n",
    "second_element = next(generator)\n",
    "print(first_element, second_element)"
   ]
  },
  {
   "cell_type": "code",
   "execution_count": null,
   "metadata": {},
   "outputs": [],
   "source": [
    "The iterrows() function for looping\n",
    "You just saw how to create a generator out of a pandas DataFrame. You will now use this generator and see how to take advantage of that method of looping through a pandas DataFrame, still using the poker_hands dataset.\n",
    "\n",
    "Specifically, we want the sum of the ranks of all the cards, if the index of the hand is an odd number. The ranks of the cards are located in the odd columns of the DataFrame.\n",
    "\n",
    "Instructions\n",
    "100 XP\n",
    "Check if the hand index is an odd number.\n",
    "If it is, calculate the sum of the rank of all the cards in that hand. It could take a little longer than usual to compute the results."
   ]
  },
  {
   "cell_type": "code",
   "execution_count": null,
   "metadata": {},
   "outputs": [],
   "source": [
    "data_generator = poker_hands.iterrows()\n",
    "\n",
    "for index, values in data_generator:\n",
    "  \t# Check if index is odd\n",
    "    if index % 2 != 0:\n",
    "      \t# Sum the ranks of all the cards\n",
    "        hand_sum = sum([values[1], values[3], values[5], values[7], values[9]])"
   ]
  },
  {
   "cell_type": "code",
   "execution_count": null,
   "metadata": {},
   "outputs": [],
   "source": [
    ".apply() function in every cell\n",
    "As you saw in the lesson, you can use .apply() to map a function to every cell of the DataFrame, regardless the column or the row.\n",
    "\n",
    "You're going to try it out on the poker_hands dataset. You will use .apply() to square every cell of the DataFrame. The native Python way to square a number n is n**2."
   ]
  },
  {
   "cell_type": "code",
   "execution_count": null,
   "metadata": {},
   "outputs": [],
   "source": [
    "# Define the lambda transformation\n",
    "get_square = lambda x: x**2\n",
    "\n",
    "# Apply the transformation\n",
    "data_sum = poker_hands.apply(get_square)\n",
    "print(data_sum.head())"
   ]
  },
  {
   "cell_type": "code",
   "execution_count": null,
   "metadata": {},
   "outputs": [],
   "source": [
    "\n",
    ".apply() for rows iteration\n",
    ".apply() is a very useful to iterate through the rows of a DataFrame and apply a specific function.\n",
    "\n",
    "You will work on a subset of the poker_hands dataset, which includes only the rank of all the five cards of each hand in each row (this subset is generated for you in the script). You're going to get the variance of every hand for all ranks, and every rank for all hands."
   ]
  },
  {
   "cell_type": "code",
   "execution_count": null,
   "metadata": {},
   "outputs": [],
   "source": [
    "get_variance = lambda x: np.var(x)\n",
    "\n",
    "# Apply the transformation\n",
    "data_tr = poker_hands[['R1', 'R2', 'R3', 'R4', 'R5']].apply(get_variance, axis=1)\n",
    "print(data_tr.head())"
   ]
  },
  {
   "cell_type": "code",
   "execution_count": null,
   "metadata": {},
   "outputs": [],
   "source": [
    "get_variance = lambda x: np.var(x)\n",
    "\n",
    "# Apply the transformation\n",
    "data_tr = poker_hands[['R1', 'R2', 'R3', 'R4', 'R5']].apply(get_variance, axis=0)\n",
    "print(data_tr.head())"
   ]
  },
  {
   "cell_type": "code",
   "execution_count": null,
   "metadata": {},
   "outputs": [],
   "source": [
    "pandas vectorization in action\n",
    "In this exercise, you will apply vectorization over pandas series to:\n",
    "\n",
    "calculate the mean rank of all the cards in each hand (row)\n",
    "calculate the mean rank of each of the 5 cards in each hand (column)\n",
    "You will use the poker_hands dataset once again to compare both methods' efficiency."
   ]
  },
  {
   "cell_type": "code",
   "execution_count": null,
   "metadata": {},
   "outputs": [],
   "source": [
    "# Calculate the mean rank in each hand\n",
    "row_start_time = time.time()\n",
    "mean_r = poker_hands[['R1', 'R2', 'R3', 'R4', 'R5']].mean(axis=1)\n",
    "print(\"Time using pandas vectorization for rows: {} sec\".format(time.time() - row_start_time))\n",
    "print(mean_r.head())\n",
    "\n",
    "# Calculate the mean rank of each of the 5 card in all hands\n",
    "col_start_time = time.time()\n",
    "mean_c = poker_hands[['R1', 'R2', 'R3', 'R4', 'R5']].mean(axis=0)\n",
    "print(\"Time using pandas vectorization for columns: {} sec\".format(time.time() - col_start_time))\n",
    "print(mean_c.head())"
   ]
  },
  {
   "cell_type": "code",
   "execution_count": null,
   "metadata": {},
   "outputs": [],
   "source": [
    "Vectorization methods for looping a DataFrame\n",
    "Now that you're familiar with vectorization in pandas and NumPy, you're going to compare their respective performances yourself.\n",
    "\n",
    "Your task is to calculate the variance of all the hands in each hand using the vectorization over pandas Series and then modify your code using the vectorization over Numpy ndarrays method."
   ]
  },
  {
   "cell_type": "code",
   "execution_count": null,
   "metadata": {},
   "outputs": [],
   "source": [
    "# Calculate the variance in each hand\n",
    "start_time = time.time()\n",
    "poker_var = poker_hands[['R1','R2','R3','R4','R5']].values.var(axis=1, ddof=1)\n",
    "print(\"Time using NumPy vectorization: {} sec\".format(time.time() - start_time))\n",
    "print(poker_var[0:5])"
   ]
  }
 ]
}