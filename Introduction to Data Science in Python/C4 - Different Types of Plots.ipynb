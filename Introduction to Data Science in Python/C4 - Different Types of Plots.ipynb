{
 "metadata": {
  "language_info": {
   "codemirror_mode": {
    "name": "ipython",
    "version": 3
   },
   "file_extension": ".py",
   "mimetype": "text/x-python",
   "name": "python",
   "nbconvert_exporter": "python",
   "pygments_lexer": "ipython3",
   "version": 3
  },
  "orig_nbformat": 2
 },
 "nbformat": 4,
 "nbformat_minor": 2,
 "cells": [
  {
   "cell_type": "code",
   "execution_count": null,
   "metadata": {},
   "outputs": [],
   "source": [
    "Charting cellphone data\n",
    "We know that Freddy Frequentist is the one who kidnapped Bayes the Golden Retriever. Now we need to learn where he is hiding.\n",
    "\n",
    "Our friends at the police station have acquired cell phone data, which gives some of Freddie's locations over the past three weeks. It's stored in the DataFrame cellphone. The x-coordinates are in the column 'x' and the y-coordinates are in the column 'y'.\n",
    "\n",
    "The matplotlib module has been imported under the alias plt.\n",
    "\n",
    "Instructions\n",
    "100 XP\n",
    "Instructions\n",
    "100 XP\n",
    "Display the first five rows of the DataFrame and determine which columns to plot\n",
    "Create a scatter plot of the data in cellphone."
   ]
  },
  {
   "cell_type": "code",
   "execution_count": null,
   "metadata": {},
   "outputs": [],
   "source": [
    "\n",
    "# Explore the data\n",
    "print(cellphone.head())\n",
    "\n",
    "# Create a scatter plot of the data from the DataFrame cellphone\n",
    "plt.scatter(cellphone['x'], cellphone['y'])\n",
    "\n",
    "# Add labels\n",
    "plt.ylabel('Latitude')\n",
    "plt.xlabel('Longitude')\n",
    "\n",
    "# Display the plot\n",
    "plt.show()"
   ]
  },
  {
   "cell_type": "code",
   "execution_count": null,
   "metadata": {},
   "outputs": [],
   "source": [
    "Modifying a scatterplot\n",
    "In the previous exercise, we created a scatter plot to show Freddy Frequentist's cell phone data.\n",
    "\n",
    "In this exercise, we've done some magic so that the plot will appear over a map of our town. If we just plot the data as we did before, we won't be able to see the map or pick out the areas with the most points. We can fix this by changing the colors, markers, and transparency of the scatter plot.\n",
    "\n",
    "As before, the matplotlib module has been imported under the alias plt, and the cellphone data is in the DataFrame cellphone."
   ]
  },
  {
   "cell_type": "code",
   "execution_count": null,
   "metadata": {},
   "outputs": [],
   "source": [
    "# Change the transparency to 0.1\n",
    "plt.scatter(cellphone.x, cellphone.y,\n",
    "           color='red',\n",
    "           marker='s',\n",
    "           alpha=0.1)\n",
    "\n",
    "# Add labels\n",
    "plt.ylabel('Latitude')\n",
    "plt.xlabel('Longitude')\n",
    "\n",
    "# Display the plot\n",
    "plt.show()"
   ]
  },
  {
   "cell_type": "code",
   "execution_count": null,
   "metadata": {},
   "outputs": [],
   "source": [
    "Build a simple bar chart\n",
    "Officer Deshaun wants to plot the average number of hours worked per week for him and his coworkers. He has stored the hours worked in a DataFrame called hours, which has columns officer and avg_hours_worked. Recall that the function plt.bar() takes two arguments: the labels for each bar, and the height of each bar. Both of these can be found in our DataFrame.\n",
    "\n",
    "Instructions 3/3\n",
    "30 XP\n",
    "3\n",
    "Use the column std_hours_worked (the standard deviation of the hours worked) to add error bars to the bar chart."
   ]
  },
  {
   "cell_type": "code",
   "execution_count": null,
   "metadata": {},
   "outputs": [],
   "source": [
    "# Display the DataFrame hours using print\n",
    "print(hours)\n",
    "\n",
    "# Create a bar plot from the DataFrame hours\n",
    "plt.bar(hours.officer, hours.avg_hours_worked,\n",
    "        # Add error bars\n",
    "        yerr=hours.std_hours_worked)\n",
    "\n",
    "# Display the plot\n",
    "plt.show()"
   ]
  },
  {
   "cell_type": "code",
   "execution_count": null,
   "metadata": {},
   "outputs": [],
   "source": [
    "Where did the time go?\n",
    "Officer Deshaun wants to compare the hours spent on field work and desk work between him and his colleagues. In this DataFrame, he has split out the average hours worked per week into desk_work and field_work.\n",
    "\n",
    "You can use the same DataFrame containing the hours worked from the previous exercise (hours).\n",
    "\n",
    "Instructions 2/2\n",
    "50 XP\n",
    "Create a bar plot for field_work whose bottom is the height of desk_work.\n",
    "Label the field_work bars as \"Field Work\" and add a legend.\n",
    "\n",
    "\n"
   ]
  },
  {
   "cell_type": "code",
   "execution_count": null,
   "metadata": {},
   "outputs": [],
   "source": [
    "# Plot the number of hours spent on desk work\n",
    "plt.bar(hours.officer, hours.desk_work, label='Desk Work')\n",
    "\n",
    "# Plot the hours spent on field work on top of desk work\n",
    "plt.bar(hours.officer, hours.field_work,bottom=hours.desk_work, label='Field Work')\n",
    "\n",
    "\n",
    "# Add a legend\n",
    "plt.legend(\"Field Work\")\n",
    "\n",
    "# Display the plot\n",
    "plt.show()"
   ]
  },
  {
   "cell_type": "code",
   "execution_count": null,
   "metadata": {},
   "outputs": [],
   "source": [
    "Modifying histograms\n",
    "Let's explore how changes to keyword parameters in a histogram can change the output. Recall that:\n",
    "\n",
    "range sets the minimum and maximum datapoints that we will include in our histogram.\n",
    "bins sets the number of points in our histogram.\n",
    "We'll be exploring the weights of various puppies from the DataFrame puppies. matplotlib has been loaded under the alias plt."
   ]
  },
  {
   "cell_type": "code",
   "execution_count": null,
   "metadata": {},
   "outputs": [],
   "source": [
    "# Change the range to start at 5 and end at 35\n",
    "plt.hist(puppies.weight,\n",
    "        range=(5,35))\n",
    "\n",
    "# Add labels\n",
    "plt.xlabel('Puppy Weight (lbs)')\n",
    "plt.ylabel('Number of Puppies')\n",
    "\n",
    "# Display\n",
    "plt.show()"
   ]
  },
  {
   "cell_type": "code",
   "execution_count": null,
   "metadata": {},
   "outputs": [],
   "source": [
    "Heroes with histograms\n",
    "We've identified that the kidnapper is Fred Frequentist. Now we need to know where Fred is hiding Bayes.\n",
    "\n",
    "A shoe print at the crime scene contains a specific type of gravel. Based on the distribution of gravel radii, we can determine where the kidnapper recently visited. It might be:\n",
    "\n",
    "blue-meadows-park\n",
    "shady-groves-campsite\n",
    "happy-mountain-trailhead\n",
    "The radii of individual gravel pieces has been loaded into the DataFrame gravel, and matplotlib has been loaded under the alias plt."
   ]
  },
  {
   "cell_type": "code",
   "execution_count": null,
   "metadata": {},
   "outputs": [],
   "source": [
    "# Create a histogram\n",
    "plt.hist(gravel.radius,\n",
    "         bins=40,\n",
    "         range=(2, 8),\n",
    "         density=True)\n",
    "\n",
    "# Label plot\n",
    "plt.xlabel('Gravel Radius (mm)')\n",
    "plt.ylabel('Frequency')\n",
    "plt.title('Sample from Shoeprint')\n",
    "\n",
    "# Display histogram\n",
    "plt.show()"
   ]
  }
 ]
}