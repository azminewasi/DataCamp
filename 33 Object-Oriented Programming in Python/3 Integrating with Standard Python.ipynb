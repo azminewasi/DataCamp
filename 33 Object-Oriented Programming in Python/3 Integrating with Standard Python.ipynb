{
 "cells": [
  {
   "cell_type": "markdown",
   "metadata": {},
   "source": [
    "## Course - Object-Oriented Programming in Python"
   ]
  },
  {
   "cell_type": "markdown",
   "metadata": {},
   "source": [
    "# Module 3 - Integrating with Standard Python"
   ]
  },
  {
   "cell_type": "markdown",
   "metadata": {},
   "source": [
    "## Operator overloading: comparison"
   ]
  },
  {
   "cell_type": "markdown",
   "metadata": {},
   "source": [
    "### Overloading equality\n",
    "When comparing two objects of a custom class using ==, Python by default compares just the object references, not the data contained in the objects. To override this behavior, the class can implement the special __eq__() method, which accepts two arguments -- the objects to be compared -- and returns True or False. This method will be implicitly called when two objects are compared.\n",
    "\n",
    "The BankAccount class from the previous chapter is available for you in the script pane. It has one attribute, balance, and a withdraw() method. Two bank accounts with the same balance are not necessarily the same account, but a bank account usually has an account number, and two accounts with the same account number should be considered the same.\n",
    "\n",
    "Instructions\n",
    "\n",
    "- Try selecting the code in lines 1-7 and pressing the \"Run code\" button. Then try to create a few BankAccount objects in the console and compare them.\n",
    "  - Modify the __init__() method to accept a new parameter - number - and initialize a new number attribute.\n",
    "  - Define an __eq__() method that returns True if the number attribute of two objects is equal.\n",
    "  - Examine the print statements and the output in the console."
   ]
  },
  {
   "cell_type": "code",
   "execution_count": null,
   "metadata": {},
   "outputs": [],
   "source": [
    "class BankAccount:\n",
    "       # MODIFY to initialize a number attribute\n",
    "    def __init__(self,number, balance=0):\n",
    "        self.balance = balance\n",
    "        self.number = number\n",
    "      \n",
    "    def withdraw(self, amount):\n",
    "        self.balance -= amount \n",
    "    \n",
    "    # Define __eq__ that returns True if the number attributes are equal \n",
    "    def __eq__(self, other):\n",
    "        return self.number == other.number\n",
    "\n",
    "# Create accounts and compare them       \n",
    "acct1 = BankAccount(123, 1000)\n",
    "acct2 = BankAccount(123, 1000)\n",
    "acct3 = BankAccount(456, 1000)\n",
    "print(acct1 == acct2)\n",
    "print(acct1 == acct3)\n",
    "    "
   ]
  },
  {
   "cell_type": "markdown",
   "metadata": {},
   "source": [
    "### Checking class equality\n",
    "In the previous exercise, you defined a BankAccount class with a number attribute that was used for comparison. But if you were to compare a BankAccount object to an object of another class that also has a number attribute, you could end up with unexpected results.\n",
    "\n",
    "For example, consider two classes\n",
    "\n",
    "```\n",
    "class Phone:\n",
    "  def __init__(self, number):\n",
    "     self.number = number\n",
    "\n",
    "  def __eq__(self, other):\n",
    "    return self.number == \\\n",
    "          other.number\n",
    "\n",
    "pn = Phone(873555333)\n",
    "```\n",
    "\n",
    "\n",
    "```\n",
    "class BankAccount:\n",
    "  def __init__(self, number):\n",
    "     self.number = number\n",
    "\n",
    "  def __eq__(self, other):\n",
    "    return self.number == \\\n",
    "           other.number\n",
    "\n",
    "acct = BankAccount(873555333)\n",
    "```\n",
    "\n",
    "Running acct == pn will return True, even though we're comparing a phone number with a bank account number.\n",
    "\n",
    "It is good practice to check the class of objects passed to the __eq__() method to make sure the comparison makes sense.\n",
    "\n",
    "Instructions\n",
    "\n",
    "- Both the Phone and the BankAccount classes have been defined. Try running the code as-is using the \"Run code\" button and examine the output.\n",
    "- Modify the definition of BankAccount to only return True if the number attribute is the same and the type() of both objects passed to it is the same.\n",
    "Run the code and examine the output again."
   ]
  },
  {
   "cell_type": "code",
   "execution_count": null,
   "metadata": {},
   "outputs": [],
   "source": [
    "class BankAccount:\n",
    "    def __init__(self, number, balance=0):\n",
    "        self.number, self.balance = number, balance\n",
    "      \n",
    "    def withdraw(self, amount):\n",
    "        self.balance -= amount \n",
    "\n",
    "    # MODIFY to add a check for the type()\n",
    "    def __eq__(self, other):\n",
    "        return (self.number == other.number) and (type(self) == type(other))\n",
    "\n",
    "acct = BankAccount(873555333)\n",
    "pn = Phone(873555333)\n",
    "print(acct == pn)"
   ]
  },
  {
   "cell_type": "markdown",
   "metadata": {},
   "source": [
    "## Operator overloading: string representation"
   ]
  },
  {
   "cell_type": "markdown",
   "metadata": {},
   "source": [
    "### String representation of objects\n",
    "There are two special methods in Python that return a string representation of an object. __str__() is called when you use print() or str() on an object, and __repr__() is called when you use repr() on an object, print the object in the console without calling print(), or instead of __str__() if __str__() is not defined.\n",
    "\n",
    "__str__() is supposed to provide a \"user-friendly\" output describing an object, and __repr__() should return the expression that, when evaluated, will return the same object, ensuring the reproducibility of your code.\n",
    "\n",
    "In this exercise, you will continue working with the Employee class from Chapter 2.\n",
    "\n",
    "Instructions 1/2\n",
    "- Add the __str__() method to Employee that satisfies the following:\n",
    "\n",
    "\n",
    "If emp is an Employee object with name \"Amar Howard\" and salary of 40000, then print(emp) outputs\n",
    "```\n",
    "Employee name: Amar Howard\n",
    "Employee salary: 40000\n",
    "```"
   ]
  },
  {
   "cell_type": "code",
   "execution_count": null,
   "metadata": {},
   "outputs": [],
   "source": [
    "class Employee:\n",
    "    def __init__(self, name, salary=30000):\n",
    "        self.name, self.salary = name, salary\n",
    "            \n",
    "    # Add the __str__() method\n",
    "    def __str__(self):\n",
    "        return \"\"\"\n",
    "        Employee name: {name}\n",
    "        Employee salary: {salary}\n",
    "        \"\"\".format(name=self.name,salary=self.salary)\n",
    "\n",
    "emp1 = Employee(\"Amar Howard\", 30000)\n",
    "print(emp1)\n",
    "emp2 = Employee(\"Carolyn Ramirez\", 35000)\n",
    "print(emp2)"
   ]
  },
  {
   "cell_type": "markdown",
   "metadata": {},
   "source": [
    "Instructions 2/2\n",
    "- Add the __repr__() method to Employee that satisfies the following:\n",
    "\n",
    "If emp is an Employee object with name \"Amar Howard\" and salary of 40000, then repr(emp) outputs\n",
    "\n",
    "```Employee(\"Amar Howard\", 40000)```"
   ]
  },
  {
   "cell_type": "code",
   "execution_count": null,
   "metadata": {},
   "outputs": [],
   "source": [
    "class Employee:\n",
    "    def __init__(self, name, salary=30000):\n",
    "        self.name, self.salary = name, salary\n",
    "      \n",
    "\n",
    "    def __str__(self):\n",
    "        s = \"Employee name: {name}\\nEmployee salary: {salary}\".format(name=self.name, salary=self.salary)      \n",
    "        return s\n",
    "      \n",
    "    # Add the __repr__method  \n",
    "    def __repr__(self):\n",
    "         return \"\"\"Employee(\"{name}\", {salary})\"\"\".format(name=self.name,salary=self.salary)\n",
    "\n",
    "emp1 = Employee(\"Amar Howard\", 30000)\n",
    "print(repr(emp1))\n",
    "emp2 = Employee(\"Carolyn Ramirez\", 35000)\n",
    "print(repr(emp2))"
   ]
  },
  {
   "cell_type": "markdown",
   "metadata": {},
   "source": [
    "## Exceptions"
   ]
  },
  {
   "cell_type": "markdown",
   "metadata": {},
   "source": [
    "### Catching exceptions\n",
    "Before you start writing your own custom exceptions, let's make sure you have the basics of handling exceptions down.\n",
    "\n",
    "In this exercise, you are given a function invert_at_index(x, ind) that takes two arguments, a list x and an index ind, and inverts the element of the list at that index. For example invert_at_index([5,6,7], 1) returns 1/6, or 0.166666 .\n",
    "\n",
    "Try running the code as-is and examine the output in the console. There are two unsafe operations in this function: first, if the element that we're trying to invert has the value 0, then the code will cause a ZeroDivisionError exception. Second, if the index passed to the function is out of range for the list, the code will cause a IndexError. In both cases, the script will be interrupted, which might not be desirable.\n",
    "\n",
    "Instructions\n",
    "- Use a try - except - except pattern (with two except blocks) inside the function to catch and handle two exceptions as follows:\n",
    "\n",
    "try executing the code as-is,\n",
    "- if ZeroDivisionError occurs, print \"Cannot divide by zero!\",\n",
    "- if IndexError occurs, print \"Index out of range!\"\n",
    "- You know you got it right if the code runs without errors, and the output in the console is:\n",
    "\n",
    "```\n",
    "0.16666666666666666\n",
    "Cannot divide by zero!\n",
    "None\n",
    "Index out of range!\n",
    "None\n",
    "```"
   ]
  },
  {
   "cell_type": "code",
   "execution_count": null,
   "metadata": {},
   "outputs": [],
   "source": [
    "# MODIFY the function to catch exceptions\n",
    "def invert_at_index(x, ind):\n",
    "    try :\n",
    "        return 1/x[ind]\n",
    "    except ZeroDivisionError:\n",
    "        print (\"Cannot divide by zero!\")\n",
    "    except IndexError:\n",
    "        print (\"Index out of range!\")\n",
    " \n",
    "a = [5,6,0,7]\n",
    "\n",
    "# Works okay\n",
    "print(invert_at_index(a, 1))\n",
    "\n",
    "# Potential ZeroDivisionError\n",
    "print(invert_at_index(a, 2))\n",
    "\n",
    "# Potential IndexError\n",
    "print(invert_at_index(a, 5))"
   ]
  },
  {
   "cell_type": "markdown",
   "metadata": {},
   "source": [
    "### Custom exceptions\n",
    "You don't have to rely solely on built-in exceptions like IndexError: you can define your own exceptions more specific to your application. You can also define exception hierarchies. All you need to define an exception is a class inherited from the built-in Exception class or one of its subclasses.\n",
    "\n",
    "In Chapter 1, you defined an Employee class and used print statements and default values to handle errors like creating an employee with a salary below the minimum or giving a raise that is too big. A better way to handle this situation is to use exceptions. Because these errors are specific to our application (unlike, for example, a division by zero error which is universal), it makes sense to use custom exception classes.\n",
    "\n",
    "Instructions 1/3\n",
    "- Define an empty class SalaryError inherited from the built-in ValueError class.\n",
    "- Define an empty class BonusError inherited from the SalaryError class."
   ]
  },
  {
   "cell_type": "code",
   "execution_count": null,
   "metadata": {},
   "outputs": [],
   "source": [
    "# Define SalaryError inherited from ValueError\n",
    "class SalaryError (ValueError):\n",
    "    pass\n",
    "\n",
    "# Define BonusError inherited from SalaryError\n",
    "class BonusError (SalaryError):\n",
    "    pass"
   ]
  },
  {
   "cell_type": "markdown",
   "metadata": {},
   "source": [
    "Instructions 2/3\n",
    "- Complete the definition of __init__() to raise a SalaryError with the message \"Salary is too low!\" if the salary parameter is less than MIN_SALARY class attribute.\n",
    "\n",
    "*There's no need for else because raise terminates the program anyway.*"
   ]
  },
  {
   "cell_type": "code",
   "execution_count": null,
   "metadata": {},
   "outputs": [],
   "source": [
    "class SalaryError(ValueError): pass\n",
    "class BonusError(SalaryError): pass\n",
    "\n",
    "class Employee:\n",
    "  MIN_SALARY = 30000\n",
    "  MAX_RAISE = 5000\n",
    "\n",
    "  def __init__(self, name, salary = 30000):\n",
    "    self.name = name\n",
    "    \n",
    "    # If salary is too low\n",
    "    if salary < 30000:\n",
    "      # Raise a SalaryError exception\n",
    "      raise SalaryError(\"Salary is too low!\")\n",
    "      \n",
    "    self.salary = salary\n",
    "      "
   ]
  },
  {
   "cell_type": "markdown",
   "metadata": {},
   "source": [
    "Instructions 3/3\n",
    "- Examine the give_bonus() method, and the rewrite it using exceptions instead of print statements:\n",
    "  - raise a BonusError if the bonus amount is too high;\n",
    "  - raise a SalaryError if the result of adding the bonus would be too low."
   ]
  },
  {
   "cell_type": "code",
   "execution_count": null,
   "metadata": {},
   "outputs": [],
   "source": [
    "class SalaryError(ValueError): pass\n",
    "class BonusError(SalaryError): pass\n",
    "\n",
    "class Employee:\n",
    "  MIN_SALARY = 30000\n",
    "  MAX_BONUS = 5000\n",
    "\n",
    "  def __init__(self, name, salary = 30000):\n",
    "    self.name = name    \n",
    "    if salary < Employee.MIN_SALARY:\n",
    "      raise SalaryError(\"Salary is too low!\")      \n",
    "    self.salary = salary\n",
    "    \n",
    "  # Rewrite using exceptions  \n",
    "  def give_bonus(self, amount):\n",
    "    if amount > Employee.MAX_BONUS:\n",
    "       raise BonusError(\"The bonus amount is too high!\")  \n",
    "        \n",
    "    elif self.salary + amount <  Employee.MIN_SALARY:\n",
    "       raise SalaryError(\"The salary after bonus is too low!\")\n",
    "      \n",
    "    else:  \n",
    "      self.salary += amount"
   ]
  }
 ],
 "metadata": {
  "language_info": {
   "name": "python"
  },
  "orig_nbformat": 4
 },
 "nbformat": 4,
 "nbformat_minor": 2
}
