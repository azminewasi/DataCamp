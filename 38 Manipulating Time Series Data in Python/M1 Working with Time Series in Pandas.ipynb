{
 "cells": [
  {
   "cell_type": "markdown",
   "metadata": {},
   "source": [
    "## Course - Manipulating Time Series Data in Python"
   ]
  },
  {
   "cell_type": "markdown",
   "metadata": {},
   "source": [
    "# M1 Working with Time Series in Pandas"
   ]
  },
  {
   "cell_type": "markdown",
   "metadata": {},
   "source": [
    "## Indexing & resampling time series"
   ]
  },
  {
   "cell_type": "markdown",
   "metadata": {},
   "source": [
    "### Set and change time series frequency\n",
    "In the video, you have seen how to assign a frequency to a DateTimeIndex, and then change this frequency.\n",
    "\n",
    "Now, you'll use data on the daily carbon monoxide concentration in NYC, LA and Chicago from 2005-17.\n",
    "\n",
    "You'll set the frequency to calendar daily and then resample to monthly frequency, and visualize both series to see how the different frequencies affect the data.\n",
    "\n",
    "Instructions\n",
    "\n",
    "We have already imported pandas as pd and matplotlib.pyplot as plt and we have already loaded the co_cities.csv file in a variable co.\n",
    "\n",
    "- Inspect co using .info().\n",
    "- Use .asfreq() to set the frequency to calendar daily.\n",
    "- Show a plot of 'co' using subplots=True.\n",
    "- Change the the frequency to monthly using the alias 'M'.\n",
    "- Show another plot of co using subplots=True."
   ]
  },
  {
   "cell_type": "code",
   "execution_count": null,
   "metadata": {},
   "outputs": [],
   "source": [
    "# Inspect data\n",
    "print(co.info())\n",
    "\n",
    "# Set the frequency to calendar daily\n",
    "co = co.asfreq('D')\n",
    "\n",
    "# Plot the data\n",
    "co.plot(subplots=True)\n",
    "\n",
    "plt.show()\n",
    "\n",
    "# Set frequency to monthly\n",
    "co = co.asfreq('M')\n",
    "\n",
    "# Plot the data\n",
    "co.plot(subplots=True)\n",
    "\n",
    "plt.show()"
   ]
  },
  {
   "cell_type": "markdown",
   "metadata": {},
   "source": [
    "## Lags, changes, and returns for stock price series"
   ]
  },
  {
   "cell_type": "markdown",
   "metadata": {},
   "source": [
    "### Shifting stock prices across time\n",
    "The first method to manipulate time series that you saw in the video was .shift(), which allows you shift all values in a Series or DataFrame by a number of periods to a different time along the DateTimeIndex.\n",
    "\n",
    "Let's use this to visually compare a stock price series for Google shifted 90 business days into both past and future.\n",
    "\n",
    "Instructions\n",
    "\n",
    "We have already imported pandas as pd and matplotlib.pyplot as plt.\n",
    "\n",
    "- Use pd.read_csv() to import 'google.csv', parsing the 'Date' as dates, setting the result as index and assigning to google.\n",
    "- Use .asfreq() to set the frequency of google to business daily.\n",
    "- Add new columns lagged and shifted to google that contain the Close shifted by 90 business days into past and future, respectively.\n",
    "- Plot the three columns of google"
   ]
  },
  {
   "cell_type": "code",
   "execution_count": null,
   "metadata": {},
   "outputs": [],
   "source": [
    "# Import data here\n",
    "google = pd.read_csv('google.csv', parse_dates=['Date'], index_col='Date')\n",
    "\n",
    "# Set data frequency to business daily\n",
    "google = google.asfreq('B')\n",
    "\n",
    "# Create 'lagged' and 'shifted'\n",
    "google['lagged'] = google.Close.shift(periods=-90)\n",
    "google['shifted'] = google.Close.shift(periods=90)\n",
    "\n",
    "# Plot the google price series\n",
    "google.plot()\n",
    "plt.show()\n"
   ]
  },
  {
   "cell_type": "markdown",
   "metadata": {},
   "source": [
    "### Calculating stock price changes\n",
    "You have learned in the video how to calculate returns using current and shifted prices as input. Now you'll practice a similar calculation to calculate absolute changes from current and shifted prices, and compare the result to the function .diff().\n",
    "\n",
    "Instructions\n",
    "\n",
    "We have already imported pandas as pd and matplotlib.pyplot as plt. We have also loaded Yahoo stock prices for the years 2013 to 2015, set the frequency to business daily, and assigned the result to yahoo.\n",
    "\n",
    "- Create a new column called shifted_30 that contains the 'price' shifted by 30 business days into the future.\n",
    "- Subtract 'shifted_30' from 'price', and assign the result to a new column, 'change_30'.\n",
    "- Apply .diff(), setting periods to 30, and assign the result to a new column, 'diff_30'.\n",
    "- Inspect the last five rows of yahoo to verify the calculation.\n",
    "- Subtract diff_30 from change_30 using the .sub() method and print the .value_counts() of the result to show both columns are equal."
   ]
  },
  {
   "cell_type": "code",
   "execution_count": null,
   "metadata": {},
   "outputs": [],
   "source": [
    "# Created shifted_30 here\n",
    "yahoo['shifted_30'] = yahoo.price.shift(30)\n",
    "\n",
    "# Subtract shifted_30 from price\n",
    "yahoo['change_30'] = yahoo.price - yahoo['shifted_30']\n",
    "\n",
    "# Get the 30-day price difference\n",
    "yahoo['diff_30'] = yahoo.price.diff(30)\n",
    "\n",
    "# Inspect the last five rows of price\n",
    "print(yahoo.tail())\n",
    "\n",
    "# Show the value_counts of the difference between change_30 and diff_30\n",
    "print(yahoo.change_30.sub(yahoo['diff_30']).value_counts())"
   ]
  },
  {
   "cell_type": "markdown",
   "metadata": {},
   "source": [
    "### Plotting multi-period returns\n",
    "The last time series method you have learned about in the video was .pct_change(). Let's use this function to calculate returns for various calendar day periods, and plot the result to compare the different patterns.\n",
    "\n",
    "We'll be using Google stock prices from 2014-2016.\n",
    "\n",
    "Instructions\n",
    "\n",
    "We have already imported pandas as pd, and matplotlib.pyplot as plt. We have also loaded 'GOOG' stock prices for the years 2014-2016, set the frequency to calendar daily, and assigned the result to google.\n",
    "\n",
    "Create the columns 'daily_return', 'monthly_return', and 'annual_return' that contain the pct_change() of 'Close' for 1, 30 and 360 calendar days, respectively, and multiply each by 100.\n",
    "Plot the result using subplots=True."
   ]
  },
  {
   "cell_type": "code",
   "execution_count": null,
   "metadata": {},
   "outputs": [],
   "source": [
    "# Create daily_return\n",
    "google['daily_return'] = google.pct_change(periods=1).mul(100)\n",
    "\n",
    "# Create monthly_return\n",
    "google['monthly_return'] = google.Close.pct_change(periods=30).mul(100)\n",
    "\n",
    "# Create annual_return\n",
    "google['annual_return'] = google.Close.pct_change(periods=360).mul(100)\n",
    "\n",
    "# Plot the result\n",
    "google.plot(subplots=True)\n",
    "\n",
    "plt.show()"
   ]
  }
 ],
 "metadata": {
  "language_info": {
   "name": "python"
  },
  "orig_nbformat": 4
 },
 "nbformat": 4,
 "nbformat_minor": 2
}
