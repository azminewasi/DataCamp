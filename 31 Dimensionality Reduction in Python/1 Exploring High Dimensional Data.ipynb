{
 "cells": [
  {
   "cell_type": "markdown",
   "metadata": {},
   "source": [
    "## Course - Dimensionality Reduction in Python"
   ]
  },
  {
   "cell_type": "markdown",
   "metadata": {},
   "source": [
    "# Module 1 -  Exploring High Dimensional Data"
   ]
  },
  {
   "cell_type": "markdown",
   "metadata": {},
   "source": [
    "## Introduction"
   ]
  },
  {
   "cell_type": "markdown",
   "metadata": {},
   "source": [
    "### Visually detecting redundant features\n",
    "Data visualization is a crucial step in any data exploration. Let's use Seaborn to explore some samples of the US Army ANSUR body measurement dataset.\n",
    "\n",
    "Two data samples have been pre-loaded as ansur_df_1 and ansur_df_2.\n",
    "\n",
    "Seaborn has been imported as sns."
   ]
  },
  {
   "cell_type": "code",
   "execution_count": null,
   "metadata": {},
   "outputs": [],
   "source": [
    "\"\"\"Create a pairplot of the ansur_df_1 data sample and color the points using the 'Gender' feature.\"\"\"\n",
    "# Create a pairplot and color the points using the 'Gender' feature\n",
    "sns.pairplot(data=ansur_df_1, hue='Gender', diag_kind='hist')\n",
    "\n",
    "# Show the plot\n",
    "plt.show()\n",
    "\n",
    "\"\"\"Two features are basically duplicates, remove one of them from the dataset.\"\"\"\n",
    "\n",
    "# Remove one of the redundant features\n",
    "reduced_df = ansur_df_1.drop(\"body_height\", axis=1)\n",
    "\n",
    "# Create a pairplot and color the points using the 'Gender' feature\n",
    "sns.pairplot(reduced_df, hue='Gender')\n",
    "\n",
    "# Show the plot\n",
    "plt.show()\n",
    "\n",
    "\"\"\"Now create a pairplot of the ansur_df_2 data sample and color the points using the 'Gender' feature.\"\"\"\n",
    "# Create a pairplot and color the points using the 'Gender' feature\n",
    "sns.pairplot(data=ansur_df_2, hue=\"Gender\", diag_kind='hist')\n",
    "\n",
    "\n",
    "# Show the plot\n",
    "plt.show()\n",
    "\n",
    "\n",
    "\"\"\"One feature has no variance, remove it from the dataset.\"\"\"\n",
    "# Remove the redundant feature\n",
    "reduced_df = ansur_df_2.drop(\"n_legs\", axis=1)\n",
    "\n",
    "# Create a pairplot and color the points using the 'Gender' feature\n",
    "sns.pairplot(reduced_df, hue='Gender', diag_kind='hist')\n",
    "\n",
    "# Show the plot\n",
    "plt.show()"
   ]
  },
  {
   "cell_type": "markdown",
   "metadata": {},
   "source": [
    "## t-SNE visualization of high-dimensional data"
   ]
  },
  {
   "cell_type": "markdown",
   "metadata": {},
   "source": [
    "### Fitting t-SNE to the ANSUR data\n",
    "t-SNE is a great technique for visual exploration of high dimensional datasets. In this exercise, you'll apply it to the ANSUR dataset. You'll remove non-numeric columns from the pre-loaded dataset df and fit TSNE to this numeric dataset.\n",
    "\n",
    "Instructions\n",
    "\n",
    "Drop the non-numeric columns from the dataset.\n",
    "Create a TSNE model with learning rate 50.\n",
    "Fit and transform the model on the numeric dataset."
   ]
  },
  {
   "cell_type": "code",
   "execution_count": null,
   "metadata": {},
   "outputs": [],
   "source": [
    "# Non-numerical columns in the dataset\n",
    "non_numeric = ['Branch', 'Gender', 'Component']\n",
    "\n",
    "# Drop the non-numerical columns from df\n",
    "df_numeric = df.drop(non_numeric , axis=1)\n",
    "\n",
    "# Create a t-SNE model with learning rate 50\n",
    "m = TSNE(learning_rate=50)\n",
    "\n",
    "# Fit and transform the t-SNE model on the numeric dataset\n",
    "tsne_features = m.fit_transform(df_numeric)\n",
    "print(tsne_features.shape)"
   ]
  },
  {
   "cell_type": "markdown",
   "metadata": {},
   "source": [
    "### t-SNE visualisation of dimensionality\n",
    "Time to look at the results of your hard work. In this exercise, you will visualize the output of t-SNE dimensionality reduction on the combined male and female Ansur dataset. You'll create 3 scatterplots of the 2 t-SNE features ('x' and 'y') which were added to the dataset df. In each scatterplot you'll color the points according to a different categorical variable.\n",
    "\n",
    "seaborn has already been imported as sns and matplotlib.pyplot as plt.\n",
    "\n",
    "Instructions\n",
    "\n",
    "1\n",
    "Use seaborn's sns.scatterplot to create the plot.\n",
    "Color the points by 'Component'.\n",
    "\n",
    "2\n",
    "Color the points of the scatterplot by 'Branch'.\n",
    "\n",
    "3\n",
    "Color the points of the scatterplot by 'Gender'."
   ]
  },
  {
   "cell_type": "markdown",
   "metadata": {},
   "source": [
    "# Color the points according to Army Component\n",
    "sns.scatterplot(x=\"x\", y=\"y\", hue='Component', data=df)\n",
    "\n",
    "# Show the plot\n",
    "plt.show()"
   ]
  }
 ],
 "metadata": {
  "language_info": {
   "name": "python"
  },
  "orig_nbformat": 4
 },
 "nbformat": 4,
 "nbformat_minor": 2
}
